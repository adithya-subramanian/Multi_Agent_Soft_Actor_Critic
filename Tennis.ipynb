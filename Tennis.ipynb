{
 "cells": [
  {
   "cell_type": "code",
   "execution_count": 1,
   "metadata": {},
   "outputs": [],
   "source": [
    "from unityagents import UnityEnvironment\n",
    "import numpy as np\n",
    "from collections import deque\n",
    "import matplotlib.pyplot as plt\n",
    "import torch"
   ]
  },
  {
   "cell_type": "code",
   "execution_count": 2,
   "metadata": {},
   "outputs": [
    {
     "name": "stderr",
     "output_type": "stream",
     "text": [
      "INFO:unityagents:\n",
      "'Academy' started successfully!\n",
      "Unity Academy name: Academy\n",
      "        Number of Brains: 1\n",
      "        Number of External Brains : 1\n",
      "        Lesson number : 0\n",
      "        Reset Parameters :\n",
      "\t\t\n",
      "Unity brain name: TennisBrain\n",
      "        Number of Visual Observations (per agent): 0\n",
      "        Vector Observation space type: continuous\n",
      "        Vector Observation space size (per agent): 8\n",
      "        Number of stacked Vector Observation: 3\n",
      "        Vector Action space type: continuous\n",
      "        Vector Action space size (per agent): 2\n",
      "        Vector Action descriptions: , \n"
     ]
    }
   ],
   "source": [
    "#creates the environment\n",
    "env = UnityEnvironment(file_name=\"./Tennis_Linux/Tennis.x86_64\",no_graphics=True)\n",
    "# The extracts the first brain's name in the environment\n",
    "brain_name = env.brain_names[0]\n",
    "# Extracts the brain object using it's name\n",
    "brain = env.brains[brain_name]"
   ]
  },
  {
   "cell_type": "code",
   "execution_count": 4,
   "metadata": {},
   "outputs": [],
   "source": [
    "from SAC import Agent\n",
    "# initialzing the agent with parameters state size 24, actions size 2 and seed 0\n",
    "agent = Agent(state_size=24,action_size=2)"
   ]
  },
  {
   "cell_type": "code",
   "execution_count": 5,
   "metadata": {
    "scrolled": true
   },
   "outputs": [
    {
     "name": "stdout",
     "output_type": "stream",
     "text": [
      "Episode 100\tAverage Score: 0.024900\n",
      "Episode 200\tAverage Score: 0.020000\n",
      "Episode 300\tAverage Score: 0.019900\n",
      "Episode 400\tAverage Score: 0.011000\n",
      "Episode 500\tAverage Score: 0.023000\n",
      "Episode 600\tAverage Score: 0.030000\n",
      "Episode 700\tAverage Score: 0.027000\n",
      "Episode 800\tAverage Score: 0.067800\n",
      "Episode 900\tAverage Score: 0.079000\n",
      "Episode 1000\tAverage Score: 0.119000\n",
      "Episode 1100\tAverage Score: 0.160000\n",
      "Episode 1200\tAverage Score: 0.185700\n",
      "Episode 1300\tAverage Score: 0.218000\n",
      "Episode 1400\tAverage Score: 0.272900\n",
      "Episode 1500\tAverage Score: 0.552000\n",
      "Episode 1600\tAverage Score: 1.147000\n",
      "Episode 1700\tAverage Score: 2.343900\n",
      "Episode 1800\tAverage Score: 2.087900\n",
      "Episode 1900\tAverage Score: 1.662900\n",
      "Episode 2000\tAverage Score: 1.690800\n"
     ]
    },
    {
     "data": {
      "image/png": "[encoded data removed]",
      "text/plain": [
       "<Figure size 432x288 with 1 Axes>"
      ]
     },
     "metadata": {
      "needs_background": "light"
     },
     "output_type": "display_data"
    }
   ],
   "source": [
    "def Train(n_episodes=2000):\n",
    "    \"\"\"Deep Q-Learning.\n",
    "    \n",
    "    Params\n",
    "    ======\n",
    "        n_episodes (int): maximum number of training episodes\n",
    "    \"\"\"\n",
    "    scores = []                        # list containing scores from each episode\n",
    "    scores_window = deque(maxlen=100)  # deque containing the last 100 scores\n",
    "    for i_episode in range(1, n_episodes+1):\n",
    "        env_info = env.reset(train_mode = True)[brain_name]\n",
    "        state = env_info.vector_observations  #extract the current state of the environment\n",
    "        score = np.asarray([0.,0.]) # initialize the score\n",
    "        while True: # loop till the episode ends\n",
    "            action = agent.act(state) # choose an action using actor network policy\n",
    "            env_info = env.step(action)[brain_name] # peform that action on the environment\n",
    "            next_state, reward, done = env_info.vector_observations,env_info.rewards,env_info.local_done # extract the next_state,reward and termination condition from the environment\n",
    "            agent.step(state, action, reward, next_state, done) # update the agents Critic and Actor networks\n",
    "            state = next_state # update the state information\n",
    "            score += np.max(reward) # accumalate the reward\n",
    "            if np.any(done):\n",
    "                break\n",
    "        \n",
    "        scores_window.append(np.max(score))       # save most recent score\n",
    "        scores.append(np.max(score))              # save most recent score\n",
    "        print('\\rEpisode {}\\tAverage Score: {:.6f}'.format(i_episode, np.mean(scores_window)), end=\"\")\n",
    "        if i_episode % 100 == 0:\n",
    "            print('\\rEpisode {}\\tAverage Score: {:.6f}'.format(i_episode, np.mean(scores_window)))\n",
    "        if np.mean(scores_window)>=0.5:\n",
    "            print('\\nEnvironment solved in {:d} episodes!\\tAverage Score: {:.2f}'.format(i_episode-100, np.mean(scores_window)))\n",
    "            torch.save(agent.critic_q_1_local0.state_dict(), 'checkpoint_critic_q_1_local_agent_1.pth')\n",
    "            torch.save(agent.critic_q_1_local1.state_dict(), 'checkpoint_critic_q_1_local_agent_2.pth')\n",
    "            torch.save(agent.critic_q_2_local0.state_dict(), 'checkpoint_critic_q_2_local_agent_1.pth')\n",
    "            torch.save(agent.critic_q_2_local1.state_dict(), 'checkpoint_critic_q_2_local_agent_2.pth')\n",
    "            torch.save(agent.actor_local0.state_dict(), 'checkpoint_actor_agent_1.pth')\n",
    "            torch.save(agent.actor_local1.state_dict(), 'checkpoint_actor_agent_2.pth')\n",
    "            torch.save(agent.critic_v_local0.state_dict(), 'checkpoint_critic_v_local_agent_1.pth')\n",
    "            torch.save(agent.critic_v_local1.state_dict(), 'checkpoint_critic_v_local_agent_2.pth')\n",
    "            torch.save(agent.critic_v_target0.state_dict(), 'checkpoint_critic_v_target_agent_1.pth')\n",
    "            torch.save(agent.critic_v_target1.state_dict(), 'checkpoint_critic_v_target_agent_2.pth')\n",
    "            break\n",
    "    return scores\n",
    "\n",
    "scores = Train()\n",
    "    \n",
    "# plot the scores\n",
    "fig = plt.figure()\n",
    "ax = fig.add_subplot(111)\n",
    "plt.plot(np.arange(len(scores)),scores)\n",
    "plt.ylabel('Score')\n",
    "plt.xlabel('Episode #')\n",
    "plt.show()\n"
   ]
  },
  {
   "cell_type": "code",
   "execution_count": null,
   "metadata": {},
   "outputs": [],
   "source": []
  }
 ],
 "metadata": {
  "kernelspec": {
   "display_name": "Python 3",
   "language": "python",
   "name": "python3"
  },
  "language_info": {
   "codemirror_mode": {
    "name": "ipython",
    "version": 3
   },
   "file_extension": ".py",
   "mimetype": "text/x-python",
   "name": "python",
   "nbconvert_exporter": "python",
   "pygments_lexer": "ipython3",
   "version": "3.6.7"
  }
 },
 "nbformat": 4,
 "nbformat_minor": 2
}
